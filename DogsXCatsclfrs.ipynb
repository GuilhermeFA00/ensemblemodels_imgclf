{
  "nbformat": 4,
  "nbformat_minor": 0,
  "metadata": {
    "colab": {
      "provenance": []
    },
    "kernelspec": {
      "name": "python3",
      "display_name": "Python 3"
    },
    "language_info": {
      "name": "python"
    }
  },
  "cells": [
    {
      "cell_type": "markdown",
      "source": [
        "# ***guilhermefa@alu.ufc.br***\n",
        "# Estágio em Inteligência Artificial-Cromai"
      ],
      "metadata": {
        "id": "PUQi1TUyJj9w"
      }
    },
    {
      "cell_type": "markdown",
      "source": [
        "Antes de tudo, queria agradecer pela disponibilidade por parte de vocês. É um prazer estar participando desses desafios e fico feliz pela oportunidade."
      ],
      "metadata": {
        "id": "yEAkO-UWk8ga"
      }
    },
    {
      "cell_type": "markdown",
      "source": [
        "Nesse documento Colab, estarei fazendo o processo de \n",
        "maneira diferente do arquivo train.py,disponibilizado por vocês."
      ],
      "metadata": {
        "id": "D_R9wp55lmQc"
      }
    },
    {
      "cell_type": "markdown",
      "source": [
        "## UTILIZAREI DOIS TIPOS DE ARQUITETURAS:\n",
        "A PRIMEIRA PARTE DO NOTEBOOK EU APRESENTAREI UMA ARQUITETURA COMUM DE CNN E NA SEGUNDA PARTE UTILIZAREI DO METODO CHAMADO \"ENSEMBLE MODELS\""
      ],
      "metadata": {
        "id": "yKIIoWGyMJwj"
      }
    },
    {
      "cell_type": "code",
      "source": [
        "!python --version"
      ],
      "metadata": {
        "colab": {
          "base_uri": "https://localhost:8080/"
        },
        "id": "jnbZzNnFmCpw",
        "outputId": "c64002a7-a871-4c27-d193-a00cf6387a57"
      },
      "execution_count": 1,
      "outputs": [
        {
          "output_type": "stream",
          "name": "stdout",
          "text": [
            "Python 3.8.10\n"
          ]
        }
      ]
    },
    {
      "cell_type": "markdown",
      "source": [
        "A célula a seguir estará instalando o dataset disponiblizado por vocês e logo em seguida desempacotando o mesmo. "
      ],
      "metadata": {
        "id": "FtUz_a5qmjHE"
      }
    },
    {
      "cell_type": "code",
      "source": [
        "!curl -O https://download.microsoft.com/download/3/E/1/3E1C3F21-ECDB-4869-8368-6DEBA77B919F/kagglecatsanddogs_5340.zip"
      ],
      "metadata": {
        "colab": {
          "base_uri": "https://localhost:8080/"
        },
        "id": "9hhiA_TOm1Om",
        "outputId": "68027cc0-a52f-49a8-8ed0-f3aeee3e966f"
      },
      "execution_count": 2,
      "outputs": [
        {
          "output_type": "stream",
          "name": "stdout",
          "text": [
            "  % Total    % Received % Xferd  Average Speed   Time    Time     Time  Current\n",
            "                                 Dload  Upload   Total   Spent    Left  Speed\n",
            "100  786M  100  786M    0     0  79.0M      0  0:00:09  0:00:09 --:--:-- 69.2M\n"
          ]
        }
      ]
    },
    {
      "cell_type": "code",
      "source": [
        "!unzip -q kagglecatsanddogs_5340.zip\n",
        "!ls"
      ],
      "metadata": {
        "colab": {
          "base_uri": "https://localhost:8080/"
        },
        "id": "lob9OxAhm5Cd",
        "outputId": "43957e70-6199-4eed-819d-5f0adb7253c1"
      },
      "execution_count": 3,
      "outputs": [
        {
          "output_type": "stream",
          "name": "stdout",
          "text": [
            " CDLA-Permissive-2.0.pdf      PetImages        sample_data\n",
            " kagglecatsanddogs_5340.zip  'readme[1].txt'\n"
          ]
        }
      ]
    },
    {
      "cell_type": "code",
      "source": [
        "import tensorflow as tf\n",
        "from tensorflow import keras\n",
        "from tensorflow.keras import layers"
      ],
      "metadata": {
        "id": "dhJVfUglngzD"
      },
      "execution_count": 1,
      "outputs": []
    },
    {
      "cell_type": "code",
      "source": [
        "tf.__version__"
      ],
      "metadata": {
        "colab": {
          "base_uri": "https://localhost:8080/",
          "height": 35
        },
        "id": "LMQSeTffnvqR",
        "outputId": "d1faace6-21f9-474a-d55b-01079c43cb28"
      },
      "execution_count": 2,
      "outputs": [
        {
          "output_type": "execute_result",
          "data": {
            "text/plain": [
              "'2.11.0'"
            ],
            "application/vnd.google.colaboratory.intrinsic+json": {
              "type": "string"
            }
          },
          "metadata": {},
          "execution_count": 2
        }
      ]
    },
    {
      "cell_type": "markdown",
      "source": [
        "Deletando arquivos não-jpeg"
      ],
      "metadata": {
        "id": "Y19NSfCCxxUd"
      }
    },
    {
      "cell_type": "code",
      "source": [
        "import os\n",
        "\n",
        "num_skipped = 0\n",
        "for folder_name in (\"Cat\", \"Dog\"):\n",
        "    folder_path = os.path.join(\"PetImages\", folder_name)\n",
        "    for fname in os.listdir(folder_path):\n",
        "        fpath = os.path.join(folder_path, fname)\n",
        "        try:\n",
        "            fobj = open(fpath, \"rb\")\n",
        "            is_jfif = tf.compat.as_bytes(\"JFIF\") in fobj.peek(10)\n",
        "        finally:\n",
        "            fobj.close()\n",
        "\n",
        "        if not is_jfif:\n",
        "            num_skipped += 1\n",
        "            os.remove(fpath)"
      ],
      "metadata": {
        "id": "f7W8sk88xwGI"
      },
      "execution_count": null,
      "outputs": []
    },
    {
      "cell_type": "markdown",
      "source": [
        "Na célula abaixo, utilizando dos mesmos parâmetros do arquivo train.py, vou criar um dataset, utilizando o método ***image_dataset_from_directory***"
      ],
      "metadata": {
        "id": "JUWV47W7oEmM"
      }
    },
    {
      "cell_type": "code",
      "source": [
        "train_path = \"PetImages\"\n",
        "\n",
        "image_size = (100, 100)\n",
        "batch_size = 32\n",
        "\n",
        "train_ds = tf.keras.utils.image_dataset_from_directory(\n",
        "    train_path,\n",
        "    validation_split=0.3,\n",
        "    subset=\"training\",\n",
        "    seed=123,\n",
        "    image_size=image_size,\n",
        "    batch_size=batch_size,\n",
        ")\n",
        "\n",
        "val_ds =  tf.keras.utils.image_dataset_from_directory(\n",
        "    train_path,\n",
        "    validation_split=0.3,\n",
        "    subset=\"validation\",\n",
        "    seed=123,\n",
        "    image_size=image_size,\n",
        "    batch_size=batch_size,\n",
        ")\n",
        "\n",
        "val_batches = tf.data.experimental.cardinality(val_ds)\n",
        "test_ds = val_ds.take((2*val_batches) // 3)\n",
        "val_ds = val_ds.skip((2*val_batches) // 3)"
      ],
      "metadata": {
        "colab": {
          "base_uri": "https://localhost:8080/"
        },
        "id": "FDgwRRYZojNb",
        "outputId": "d1a84230-28d7-49c4-f2c8-631e0e96b6f0"
      },
      "execution_count": 3,
      "outputs": [
        {
          "output_type": "stream",
          "name": "stdout",
          "text": [
            "Found 23410 files belonging to 2 classes.\n",
            "Using 16387 files for training.\n",
            "Found 23410 files belonging to 2 classes.\n",
            "Using 7023 files for validation.\n"
          ]
        }
      ]
    },
    {
      "cell_type": "markdown",
      "source": [
        "# Entendendo as entrelinhas da tarefa **Classificação de Imagens**"
      ],
      "metadata": {
        "id": "0PgLm_trprjC"
      }
    },
    {
      "cell_type": "markdown",
      "source": [
        "![0_jWL9QS9HBmrAxVLw.jpg](data:image/jpeg;base64,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)"
      ],
      "metadata": {
        "id": "-WHqqXPRqHCc"
      }
    },
    {
      "cell_type": "markdown",
      "source": [
        "Sabendo que, as máquinas de Turing entendem imagens como uma grade de números, é plausível entender que essa \"grade\" pode ser uma matriz. No contexto especifíco representação de aprendizado por dados, interpreatamos vetores n-dimensionais como tensors, que é a estrutura de dados que alimenta os modelos de aprendizado."
      ],
      "metadata": {
        "id": "k6L2yFV-qma1"
      }
    },
    {
      "cell_type": "markdown",
      "source": [
        "Como a tarefa de identificar conjuntos de números nessa grade é uma tarefa linearmente separável, é possível utilizar um modelo de Machine Learning tradicional como o KNN. Contudo, por problemas de dimensionalidade com o KNN, o modelo utilizado será o CNN(convolutional neural network)."
      ],
      "metadata": {
        "id": "wy8KT3VnrkPD"
      }
    },
    {
      "cell_type": "markdown",
      "source": [
        "Construindo uma arquitetura CNN"
      ],
      "metadata": {
        "id": "-ZCp8RiRsdio"
      }
    },
    {
      "cell_type": "code",
      "source": [
        "def make_model(input_shape, num_classes):\n",
        "    inputs = keras.Input(shape=input_shape)\n",
        "\n",
        "    x = layers.Rescaling(1.0 / 255)(inputs)\n",
        "    x = layers.Conv2D(128, 3, strides=2, padding=\"same\")(x)\n",
        "    x = layers.BatchNormalization()(x)\n",
        "    x = layers.Activation(\"relu\")(x)\n",
        "\n",
        "    previous_block_activation = x \n",
        "\n",
        "    for size in [256, 512, 728]:\n",
        "        x = layers.Activation(\"relu\")(x)\n",
        "        x = layers.SeparableConv2D(size, 3, padding=\"same\")(x)\n",
        "        x = layers.BatchNormalization()(x)\n",
        "\n",
        "        x = layers.Activation(\"relu\")(x)\n",
        "        x = layers.SeparableConv2D(size, 3, padding=\"same\")(x)\n",
        "        x = layers.BatchNormalization()(x)\n",
        "\n",
        "        x = layers.MaxPooling2D(3, strides=2, padding=\"same\")(x)\n",
        "\n",
        "        residual = layers.Conv2D(size, 1, strides=2, padding=\"same\")(\n",
        "            previous_block_activation\n",
        "        )\n",
        "        x = layers.add([x, residual])  \n",
        "        previous_block_activation = x  \n",
        "\n",
        "    x = layers.SeparableConv2D(1024, 3, padding=\"same\")(x)\n",
        "    x = layers.BatchNormalization()(x)\n",
        "    x = layers.Activation(\"relu\")(x)\n",
        "\n",
        "    x = layers.GlobalAveragePooling2D()(x)\n",
        "    if num_classes == 2:\n",
        "        activation = \"sigmoid\"\n",
        "        units = 1\n",
        "    else:\n",
        "        activation = \"softmax\"\n",
        "        units = num_classes\n",
        "\n",
        "    x = layers.Dropout(0.5)(x)\n",
        "    outputs = layers.Dense(units, activation=activation)(x)\n",
        "    return keras.Model(inputs, outputs)\n",
        "\n",
        "\n",
        "model = make_model(input_shape=image_size + (3,), num_classes=2)"
      ],
      "metadata": {
        "id": "Myj7bSdmrVWO"
      },
      "execution_count": 4,
      "outputs": []
    },
    {
      "cell_type": "markdown",
      "source": [
        "Como a tarefa em questão é uma classificação binária, a rede tem uma única unidade final e uma função de ativação Sigmóide."
      ],
      "metadata": {
        "id": "ukPZU5q5ssfn"
      }
    },
    {
      "cell_type": "markdown",
      "source": [
        "![1_Xu7B5y9gp0iL5ooBj7LtWw.webp](data:image/webp;base64,UklGRqYbAABXRUJQVlA4WAoAAAAIAAAA5AEAQgEAVlA4IMYaAADQhACdASrlAUMBPm00lkkkIqUhIVFKQKANiWdu4W5RjmIEw/qkof379z5cUr28yjs/Zeu7/J/6X2Q7aPzAfsB/oPbm9B3+v9QD+pf3nrAPQA8rf/t/3r4S/1+/8H+f9nn/ta1J4w/p3469+n/K/nf9//1nXjemvbn11sy/l/7J+uXqN/I/s9+7/rH7retf+i+1X0B+QX+H6gXtb/W+dR6P+p/c8Yx/N/1p/aP4AvVD5z/q/5r+8H9n863/c/w3qJ+df1z2AP5J/Wv+B+aXwt/r/Ap+3/3b2AP5h/b/+n/lfxN+lD95/8n94/z/7OezX80/u//q/yHwCfzr+vf83+5f6H/5/5f5zPX9+1v/m9zD9fv/t+7o1Qr3vFHoKdVGoJgSx9HQH0dVtC9kr7USaCA5YDJfu1cOPvotV/gdnXQPwDHLgIgm3cFLhRKEPWzG5fSB7WVw8G9n//++x5duoGXtvXE1NcngZk+z5PCbzFExQKdUjD3orRZtmsksV9FUy+F2lZ/Xnf/WRJ/kKwQMc3RoTlThKQFhqURnb1/TuxIPdZNnUEhKiWY9p3ZvwHTT6FH/8vHg/GRhMrVy2Nth/7cMO9Onif0Uww/djzq/yq1RiRhJT20lPDRtSxw92tNrb9MFMb+w+rusVsOKvRFbGPjYWqNCLiTjTsvn12RjKnCw2ZRzAuITtiVScUaLDa0hdxiBxNUCYvjDLQzEDHHyY9dOxMdw606UwVo/lDiI9Q9LlkTI5w0WkTlC2sPVfuaS1WoKJekxoKu481otInKFtYeqiRhJYnPuvB9o01KpOpMcUaLDavuo834WlyPrN7SNEjCSxOfZlbiblXBZxIwksJ772gGo7H9C2s3jGuKJPqIto3dakWDtZIlQTLqR2e7amwMM5IqbVns+A4MLoJriV11ChMXZenxCD/+XEjKO1Ef5FF2BHpASPLxEE/zFYuLX1j22YZt5g9DJ60E/zFXK2RMAbE6BcJzQJ3mT7HFlFpE5xIuWxejbF6wksStm1fg5gdptbWi0ic4em0dC4mANidAuDFQprJ0+Oz/ToFwn1NnhCRofBfi0iXlbfnaPZmUJSo0WkTnD6UehcGiwxA6vqFJF2DPIgkP3SCHpNRPaUU0Ti0ic4kYR/ilGYn/3uFwDni7GLqghfMVMcAFeUUUab+HyTlrv+wpUyUVNtNt2cyKr4onwZKoU9eIyhhsw0XtPdob46H3VpoEWq8G2kHkPINlt7xG4hBAvPe/Ky2TRlXkEHFV2IOEKESnRH3XSEVZX4695jx7vX8qPeAJr0efHj7ZxF1PKCSmKxrkzbnNHpKCfNLalXD5DV5R4xrRGPduTLZMj/vjjfpdAqWhBYH+3UBSWmoPyaFxE6GBUYb7KdFsP1qHzfX1V4fWxOcSMJLE6BcJ9XFGi0ic4kYSWJ0C4LgAA/v7rW+yjiWNBEzzIuv+bH9/DnEZpfJV6nRrhn6nB4Ku6EKUHDx44aFssJa863k3DHyqygrEPnpmXvsAp2TYOeCQkAwSSf0tSFxT6eRE6y2aC5SKUMLDkPJ938RV883fh9xv7m92HyJqe4EBG4YIoHo32bgZpgNh8yCgslK+GCMWvlxaVV9oC/V/1QX594SVQCXxXqKQkqaj9H/cOCKLQ2pp1tl8WTx2CTwLBfpL3PCgw3UCRPpwEQCMO+jwF53XaSLtBRjUY57uqQXgoy3N6MoyxZAkvd+Esgw+Yg61Skz4WW9y3SbccP+GGdCQqXs8mx9QpWuTjixY+/IslOX/d/cx6ccKMIC21tRS8JTaLIH86nMp2kplTUysWZNBRn2ylF/aYKuzwf0An+0B8IsZi68A+Qq4/ZBzhVJoK7miLKoasdrJ/57yc65XuibvPfqgjEKH5EhSnNUahxC5I4bJrrhGzzpXNw5FjNDU+Pbpz4yvZGuAPhFjMbStmE01/y3XpbKgPXd1wXlpU5I0U0AFMfM1Afk5T8flUiR2Gnha8btuqQsWkFgLhwOfehVZZ308xwvHuf2WKXQGJJqDekmuUxm1W00ez0whMOKTV4CWZGkCSaLY/6DZDRaUd7sCPglZBkYNhwzDIGS8kOc4w7F9F7JfMuk4OB+7MkbsylR9V19LxKe/S01ssv/DdMdFLjrvT0akvV2lZ8Ewltd8KqsTwxMj7fSmKwXHNS5T+zIsC7wuNIn8cymr5FpZqDJ1DTtB2hVokRjd3aaCicRbQnOLBwFU9pErpJWzeVlKZayEb3UgCn6I5vIkQP7cuOiY9sPDU8lgXnSCWLVQWW5GayqRzelmRo170D0ET33zSJem18aU0v3N74prxnW/CGC98G1O2g01HnnEvVRfAHkqOvXEUDuYWRKYSWGe6lzE4lPF8/+0z/ZA4soCmAsiMl/nbGa57HgP42xN4s9B7TnylgcdpkBvYgVDBp0PJUdequL5nG8gXdWvGJMRUU6jEkSwmuCAuZ8hEVKxv97pRFHES/ZpYbwXXe8eEQTiZujdjeLzZJYTvVNNZBSMcsvA9tv6QrVo/Kc9B5yzU2Yh7s0k8y/caRjuaQ+Y7e4Q8Mbf14Yoi1s1CsfwFpYM//HBp0+CojzfHBrHTRt9cTR9wSXBLFCVUgUjYT/8tdRhEbRBiixOJ7cuYZvQ4foToRtNmqDUhT3q5A3rp+an9YuiL+1LyzdxUPvofF9zRIAaNKOlKST3xHWvnNHyz1QUzPf3SDQyxv4MZsQonhcgN6tu0TXm0u9JZThvSnOoMX/4CioW9MOr90F8U+DcAXTc3A0Qmf9FQZ8ZtlAA/3ExwaDBgUO8hhxjQ7JM/KGp4TASaciSpBktyAaYaFq1BDUTV6srAMQQWX44bqhDR4fsLHQKWkLKmRxeNR0LQdP3DvVs4tKHEO4mZNqCtc7tOQAkiQB+MnwxKmVSNwnqQV0HYjtGfpD007Y1jrzZkDauBM/44OB3RDJAw0Vt5xhrN3dNgtO2D/cchmnMYJmmLwY1xa3Oim5k/TKzyJv972UD7CTRyB+N4JNVlsiBUctcfR9tkIg43zosJMwBeLgzLZkkCxp9w9W9eagGxSQQsg1vfBT65VmBaUq1AUtCmfmcJ1irOnUxEsRTJXQ4CByKJbaSKGBdQUQUfor58Qjg/OnwUnxHiYeoCbI4Q2Xme8m3sKxlYlQ7wagMXg5VbF2YT48uDmqUvad6KFHBXw8O2Rf3CVHaBUhBW7oIoQDw2pOUXk62tKB/hzuId08RAaHJHbgP2pt2KzpUFXhQz2fSpvX9OSmBFoB/NGdSuWG4R/Toco9My2SvlgDP79XmX+SQ1/dE+3shT5kc2A+obM4TwDQbWMKVCfBN++G0lVxcnGVdvJDFyFtI8jji1cF/nIsdwMie93zTxrQK01ZXIOB541HqH/v5zgzOXACtsb37qK3roSq/jy8xujJiB/3duMohsVfuzfWFQcOIxhzXdzQOcAX+PXQzaAQx0Hbn96O2McyUdgdbatqw/Yr1IgPh48nWSd0BEc7NcoFaLUMPr8KcCSngeIf4zGPdTEeRop537+q6QrP8SOHzxocjmu4MhA2vOQgW+Jjk4JlK7fmojY5QqFcrAupXtuF4tCTeKMzXetypCZwAMrMPEv4cQ13fCts2vz/CE2pMR1u+uVGQfQCZF/F1VSaRxvnbniCRIHmTOWyuibnKCpQ+GWS1HOgGMTjaaJaavaKS2vl/yD4c0v65pVqmtsW53jbjhGfjSuAg25zluQAwKBs7jemRHHmQBzZs8IsGHdcPvqiwhiR8qeujU4pQ6LJjpRRyeuH9SrGaw+zqB2LaIBaxYug0VuTKpvGtm3l7xlooI3GxRL+cEBF8/JFvvANdgfDY4YZj1JwUIry7kugDEf/xzmL3FXBLThxH9TW3RsbMxjQkKD/ni3/NfZM4Q/B1pVGrv2ALgT9VpMh752+iOWvgCDLLxr7dvBfDh4BEABWcJvCdjWWMp1MYOkXV1vT0dYhqRCD5xWtCUw0KFxoe/VgYwygd2LrczKC8C07atQ8zvipJZBouAhv+AH/GfJuanlxujReJVjtzGk/zQiNALemjgUe6DmcS6dcIiCOERGuzug4gjuRvfu1xVwuy/cgfFuAnrUEIVFqYaRkqmy7pgc+AqATDKijzMVa6O6ijXcvEVR9R93F2vHl6vMeP1jHA2gSdY0+eUUfpL38MR/8clKqy4vR4au8CEpsnrTZzXJA/chk2LfM/H/S2sUg6yOYP9+B7ITlQe6ZEkigIpFfzYLZZmHtWuPHxBhvWrBfe/H9QGbRQyRShLcOkSLQwu+h5Pg2KuqwRvM3bIv7OhlQ+4L+2oqsUuhCfa950Qt3a0pXC5GAt04sFfR2NZDF8+NnmCA/aAsQ6aT0s4mz6X76jZf5lZjXwnap5dbhWk3slI5pCD6NO2yAAjfPKSFSHwPGOOMXsKmg2I3FVorfPXvBonlIWxSjXU7HNOxvPkj26uTBDhXgv9pM7oHsODCD5t8rSEpqBJVO58VR5gvpKK63/a3zxo7BBYnoAkFUg8XghSoX04Gw3LMD6Eb7zd16MPWjpxM5t57FrPVr9Bb7nYhD0fM+ksSBCT5npvcM95np6Bqdd1ceRaaKLW8W8JYRJqjonu/6zpyvqdeGic2EgTruT1u7FGDuxW7tthGAA5xzEsb1BxTvJyL3OIQ0k54Mlf+fnEQe+f6xkMJWRb9BB1SV+DDmu4/eQE1faAk52ZW0nQn1C+2Hm2SV7dBQEdCTBE6B1S4KWO6DZ4gxFv94f0RoaQwEsF/FcqYOuAErmjNyZR+2f+jCH63W+8j4mDjqKA14Cq35qVT08uztX1bjRXZEEL68k+NEy0QBYDPfCrE1BNWHR7tBQrKt2gD95cKB6mba9nbytEHem91mPiUJjTu1S7bECUaQ14xQJJe03hTxnCxx+SCchA36g6rJrNJd3dfv3lEzvRsCwm99jkZHZPmthy+YMIzhUNShax78cumP0Z0Mwwatk1DRJgt3CHSmmL5w+csZzPmUf/QClDMcmybh0/3U4CQ0G8ZSsUS+oiRL62qqDmNt6f2HgFNEX4OrfqrHcBkgRZjKx3dek4aL6ilgOTyYq0Yc+iOiNLwem+4MkcKFlkBXaLweNHMHvPVSQY4DDudZgPJEFTAhxLsjHarbyTEVFSK2sJHnjJzZKcxYY+Zq2GrlmBBAzSoS02kRfxai8dx79VPSDOMwm6Ec1TzHC8e/KxTu+tCtgFgT0muU5hqtpmQVfeCEZiuky6WTJOd4SsXGY+Xvxop3li37IcTi/yCAhfiWyEQczUGO+FuIiJDnTpwUzpDdI5TuVNn/DVf5u76tgiRFBPyKQa9sdfOGov9SB9sfd/yySDUCKP9sum8bh9564cocHpOZtwU9FodMChXZDCoZbprh3JIabi4gLHHOmO9fWUMyHomhmVYbWBUELTFICBx/avSbntcw0KrHkhuMasWXayt/6S0bf/5UtBU+6s5LU7DyXVSjL3t+StEwZpoDQu17XIGrAY6yYfCgzvPSUXEZ0BiYZbwX6yQQl0GHDwc6AfziPv+/X48+Kak/73fltoAn/IsMdT/wPNAnLOLCgfGL5Kt20nRbG3G4p4oya51MP58K/SsKGusi95cpqJGyrSnYb23zSQeMDMCJB5N2sqDAGwsdz/zkaeG5LKB1NO4fW3LE+XWEqzo0TLUJ1oYms7z2Or161BvC5JcdpkBvYgVDA6YwnxdcN7Qn+MJGv4SedD82ZW49vgwDT0ICGUZQFMBZEOWIfga3kt2aToCPu53uBKJOK51owJueIQYUZcywTFYsdgQyGEuaYgDrBqpO6B502Ib5uOxci7eFe1qfRQrdqMKTTI00TkO80xZHLjM+j7iiprskBvYhl7Xv56utOg6RM8nr0r8NMAX5OSPle1wUmw8UOPrbPpa+VHtCJQpVyN3MvXgqN/JV1VB/avScbDhmEPXyiv9CbtKsskzAe4qJ/HHixz4mTVwX8oORgB1WBMBvgvWbpWc9M/4kLkbt5bSs+CW7VgYn8ELrh+VhpoGHM3+hqxY8HJgYafpJhtscwUOvm35ItuVMIpz3WVrE051s+bS2KyzFVZHNQN3xz+q/3pmDyxSedS3bK35USS3L4zHbxP7MWJcdc+9nP6Wp6vz7fZzw2LlcZ2QeEzZedcCyb11sMQ66+lZNddqQ9G8PULQv7kdUmP4A7Y9r1C3gwj+JiHeztJglGOJUoqpC3dpeoo0aQ6/pdIfryF3ws272K3Px+l8Kll9tpWUWYtmOrHq/PukNBdlZLlcKXdSRFA6Mq1BpPYqiQQayFyB4PNgmqZjUaElBN0uNPvznlCSUtCdkNatm92fQR6sLX+j2aD5KHlLfUf+TYm6xnAPfBO4jhxIfonTLIpIfQd8tYVm4XZoZlUADuulgvosmRTkrAAMIyb/j48/jEdLF71oAPFMxpkg/Fne2EZcmmIkHL/uwhK8nDRQZKoL6Si5HfUOqGEA/DHbXNsmLFM/FgMUGZq/xToBe/W1zVkLSKj51ovdWhc7TUyZlC+CeTBu/8vTQC95vE499si+tRxeD+n20txKxmB7vMI0cM2dtCaVIxd28A3gxu45cF37bLEm3mTBILqpEBWT/SiObxS5WutfvYTdJigL1aaxzwE3IQMszwB99O23trQ4c+msi4hy4Y4PWZZDgt7HoOUDs+aYyDCX/ePOz4cgoeO4zFeg24q+XrQ80oJD3aPOkFXdQQtgYqAk4bmcAGoWdKyz8PDpD47reuGJsgArE6xMOhXTVOUchqUN/5glSpyX/Z/vlAyuPDUNTe4nHeotdk8KRE5J+ZG8ZlhvB3JrEqMCK/PNXj8CbmjfLdxic5+iA5mF/2IV580XMYJdCdAcpqcx/FiQPp0IlJcRH4rddo312M++RYx03SFRm8msbyTUFwegWnIhZylSZkV0Xy+JSMzM0g2LUQVrBOsrA6WXsrmB2SZXMeIA4dC3y6Ev9g3zKONAZA57BPzsDt9yOY2N2aakay/JRvcJTcdTLplGI5a3I5yhpS1//fibj0ihkVtUgB4lWSp3AwO2cPdgGujz9TR9Jbx9PPn7CigBQxa6qcQ9+rOLxox8ZImzKZi7MtwpINyGvVlRWQ+AAZ7EFilER0u/P1T4SrURyVgOQirBqJBQlcbxtdG7loA+ErAcptJZnooRzjnsmr/68mMwVwAQkTry90tZE4T/PECiWNvuBjzC2Bfo3fBE70Za38fae6czBaBixf2jMvl1AJ6CIiJWJoyj4A4CFMd3b18dQJ8u2MalMcwx3bDem+oiAcWkbISFo1G/OoObu0+TDbRAjlBE5HkgDZPXtW19Ec66n0Z5ImQevSd+PAyUqX1MislC8xREIxzJCAm2OhoDj2WxmMPgc1L7DMGAIhXbMfvK1kv8BshwlFoXSfGarezVsiCKjVY+4Jjz7bLoT9LC1JdiCRULNu8BvgFbaxfdULyl2iaUs4p2cf9wWdWz8UI0BmQl3857E7e6lRtgihyfDc65fAmAotLjslkKcia09Imj4CcwurGKRFmNclNav3Ja5As3E/mFwqLyiMjFYe8+Y9Y9AdU1dTTb0+lR/WR6yLf+mYjIM5yHTMiS2IYTt4OK6oNz+B4L7ulNMWaOda/WFaWWKNmTtMXNs8aCbkQtrPblAA+dZC0RYMwxgm+CjGfh2Z2jjtkEGXvZlF2Pn26oKHYB8tMj53o0ckP/ZW3VnO9mLKuMTyr58HT8CEMc9cALbgFZqcVF/dggRDfCaAE/cBO4Z0ZNjyYpcANkSBqd6NHJD9RKV5C6v6u9kTZDMugmwZMipfznhxwuKqUxGXucb91KM5enTaLFu4lkxxQH8xxIE8AJZcULx0cV5cpoIMCmHiy31+nxOhTOFx4pBRtw78S9u+/yZXnDpbe3Ghv2W6QE234wPleHNXQDeN9K7SZGbgy6ZMWHSutyZyhXF42mvpKtQ9IVbfGcCYOaUTO2ys1cyDgnsWr1fFZYj5YK1gWX7pgvJuPAzQw/XTKlH00pr1xlFCkyDwzojablKPrSQXKmTIzbnrx5NHZR/jH5nve7KYrn05oZvDN3EaeAkFCgfiNhYPA7pKSonYk/L2dNVCbWuzxk0mUPt5uoUUsKyH0b+Opy5m1fyJQgGR5prC5V65NSz0D6eJqlcuazPb/L9TUs2qTq4X/opd02aFOXM2ivFejiUG2ldISuyYACYYwtqsPcNUPCZ6eHauJLmrEniL2FNyz85NhmNRAMjzTWFyr1yaMA3/TF1wqe1hphxDXi7cHMExAcrJalWGhnrVCpgOBnktb+yTFFYl7gY+Qz91EpFrAOrcLwJlSwjvuOYth457MTdQUR2AQy9n2L38nyS9OVhRuTCWmhDzXscgjba7/Yj9ee9fc1hZgFxLa/924avA9xbZDzCy/nmGJj4XB1Y/slyt8vvsACpU5QOe+G5YbTyjHWpFDZXJsFRFVI/cnlCKtNX7LJNMFJFb3sQN47gLD4Yxd2yM5fbVlqk6jMxPPRnERX6P2/ylqoUZ9hVTY8tSV/dTdyPwbehJyz+5jAdrVsLd43f1BOPw9ve8CcWzxbEFYAvJ+XtvyENAD21KnA6/r83CppxvIVuueox8+9BcKZA6FRPqw6dsifTr4c1abNrmlq5PBou04yALGTSp+Hq6YiR0T7If15LkL7C8G2lAbBQq1Xw4P7KTnuPtYN4nZ3OnbIn06+HTzIpK0fwcT7byaccUHGBV4DWt7de/LMs2noxNISMutThOkNAnNp5w1XuBj6Zr3T8nklC6orsNRBkw0TL1lnAoY9CbHhXnvb0uWlNQrMqpJ0M+vhkLFMOl7jdgEcNhu8+NGLfRNwLE5tZ5PBf1bydVOSt4RmrEzFa2mWbivo4eqs8cvWH2pFxWyvdngDp7J2v4Mf4rA6a4IUYHmY7VXBuUoWygtEl6yj1gRQM3xJrg6uSMFl1RWwIvhU0j7fjBqJQ8JFR4p+cCH15a6Jr6KO8tCId2oKZuR3/8C/JgQmEGqW9qaoqX1W/8966d8+4ufa55jmagNCBIbWCjl/rhW88PS4TRE0aSiEcrhscLznLLr2F4Dbde697khYO/yawHeZM0nU9nvlyoCSwAVbjJGrtIQRCO8TA/RRibIvxdl8QKlbsrsTfBo6wVBUGCWF6DxyEAAAAAAAEVYSUa6AAAARXhpZgAASUkqAAgAAAAGABIBAwABAAAAAQAAABoBBQABAAAAVgAAABsBBQABAAAAXgAAACgBAwABAAAAAgAAABMCAwABAAAAAQAAAGmHBAABAAAAZgAAAAAAAABIAAAAAQAAAEgAAAABAAAABgAAkAcABAAAADAyMTABkQcABAAAAAECAwAAoAcABAAAADAxMDABoAMAAQAAAP//AAACoAQAAQAAAOUBAAADoAQAAQAAAEMBAAAAAAAA)"
      ],
      "metadata": {
        "id": "kPgUrqS0uBLR"
      }
    },
    {
      "cell_type": "markdown",
      "source": [
        "Função de ativação: A principal razão pela qual usamos a função sigmóide é porque ela existe entre (0 a 1). Portanto, é especialmente usado para modelos onde temos que prever a probabilidade como uma saída. Como a probabilidade de qualquer coisa existe apenas entre o intervalo de 0 e 1, o sigmóide é a escolha certa. No arquivo train.py, a função escolhida foi a softmax, farei comparações entre as escolhar diferentes em outro documento."
      ],
      "metadata": {
        "id": "tTnHn9FsuG2N"
      }
    },
    {
      "cell_type": "markdown",
      "source": [
        "\"Aprontando\" o modelo/rede"
      ],
      "metadata": {
        "id": "jb0a4imbvA02"
      }
    },
    {
      "cell_type": "code",
      "source": [
        "epochs = 1\n",
        "\n",
        "from keras import optimizers\n",
        "model.compile(\n",
        "    optimizer=optimizers.Adam(1e-3),\n",
        "    loss=\"binary_crossentropy\",\n",
        "    metrics=[\"accuracy\"],\n",
        ")"
      ],
      "metadata": {
        "id": "mzXCSHS8ubX7"
      },
      "execution_count": 9,
      "outputs": []
    },
    {
      "cell_type": "markdown",
      "source": [
        "Bom, apesar de ser um conjunto de dados relativamente grande para uso em estudos, é notório que, para níveis de produção, seria uma boa tomada decisão usar a técnica de Data Augmentation para aumentar esse conjunto de dados. Partindo do princípio que, ao mudar a rotação das imagens elas deixam de ser as mesmas, a técnica será aplicada."
      ],
      "metadata": {
        "id": "NnlP6jUPwHQy"
      }
    },
    {
      "cell_type": "code",
      "source": [
        "import matplotlib.pyplot as plt\n",
        "\n",
        "data_augmentation = keras.Sequential(\n",
        "    [\n",
        "        layers.RandomFlip(\"horizontal\"),\n",
        "        layers.RandomRotation(0.1),\n",
        "    ]\n",
        ")\n",
        "\n",
        "train_ds = train_ds.map(\n",
        "    lambda img, label: (data_augmentation(img), label),\n",
        "    num_parallel_calls=tf.data.AUTOTUNE,\n",
        ")\n",
        "\n",
        "train_ds = train_ds.prefetch(tf.data.AUTOTUNE)\n",
        "val_ds = val_ds.prefetch(tf.data.AUTOTUNE)"
      ],
      "metadata": {
        "id": "pbA1c2YGxZtM",
        "colab": {
          "base_uri": "https://localhost:8080/"
        },
        "outputId": "657151a5-5441-421b-b9a0-f5306d75f962"
      },
      "execution_count": 6,
      "outputs": [
        {
          "output_type": "stream",
          "name": "stderr",
          "text": [
            "WARNING:tensorflow:From /usr/local/lib/python3.8/dist-packages/tensorflow/python/autograph/pyct/static_analysis/liveness.py:83: Analyzer.lamba_check (from tensorflow.python.autograph.pyct.static_analysis.liveness) is deprecated and will be removed after 2023-09-23.\n",
            "Instructions for updating:\n",
            "Lambda fuctions will be no more assumed to be used in the statement where they are used, or at least in the same block. https://github.com/tensorflow/tensorflow/issues/56089\n",
            "WARNING:tensorflow:Using a while_loop for converting RngReadAndSkip cause there is no registered converter for this op.\n",
            "WARNING:tensorflow:Using a while_loop for converting Bitcast cause there is no registered converter for this op.\n",
            "WARNING:tensorflow:Using a while_loop for converting Bitcast cause there is no registered converter for this op.\n",
            "WARNING:tensorflow:Using a while_loop for converting StatelessRandomUniformV2 cause there is no registered converter for this op.\n",
            "WARNING:tensorflow:Using a while_loop for converting ImageProjectiveTransformV3 cause there is no registered converter for this op.\n",
            "WARNING:tensorflow:Using a while_loop for converting RngReadAndSkip cause there is no registered converter for this op.\n",
            "WARNING:tensorflow:Using a while_loop for converting Bitcast cause there is no registered converter for this op.\n",
            "WARNING:tensorflow:Using a while_loop for converting Bitcast cause there is no registered converter for this op.\n",
            "WARNING:tensorflow:Using a while_loop for converting StatelessRandomUniformV2 cause there is no registered converter for this op.\n",
            "WARNING:tensorflow:Using a while_loop for converting ImageProjectiveTransformV3 cause there is no registered converter for this op.\n"
          ]
        }
      ]
    },
    {
      "cell_type": "markdown",
      "source": [
        "Padronizando os valores do canal RGB[[0, 255]->[0, 1]]"
      ],
      "metadata": {
        "id": "86llRf-_hXha"
      }
    },
    {
      "cell_type": "code",
      "source": [
        "from keras.callbacks import ModelCheckpoint\n",
        "models_path = \"models\"\n",
        "save_model = os.path.join(models_path, \"lenet-{epoch:02d}-{accuracy:.3f}-{val_accuracy:.3f}.model\")\n",
        "\n",
        "checkpoint1 = ModelCheckpoint(save_model, monitor='val_loss', verbose=1, save_best_only=True, mode='min')\n",
        "checkpoint2 = ModelCheckpoint(save_model, monitor='val_accuracy', verbose=1, save_best_only=True, mode='max')\n",
        "callbacks_list = [checkpoint1,checkpoint2]\n",
        "\n",
        "H = model.fit(train_ds,\n",
        "              validation_data=val_ds,\n",
        "              epochs=epochs, \n",
        "              callbacks=callbacks_list)"
      ],
      "metadata": {
        "id": "NBUlA8tyonJc",
        "colab": {
          "base_uri": "https://localhost:8080/"
        },
        "outputId": "81ceff1e-0ef0-47e9-98eb-33d48a0c71e7"
      },
      "execution_count": 10,
      "outputs": [
        {
          "output_type": "stream",
          "name": "stdout",
          "text": [
            "513/513 [==============================] - ETA: 0s - loss: 0.6588 - accuracy: 0.6239\n",
            "Epoch 1: val_loss improved from inf to 1.33749, saving model to models/lenet-01-0.624-0.510.model\n"
          ]
        },
        {
          "output_type": "stream",
          "name": "stderr",
          "text": [
            "WARNING:absl:Found untraced functions such as _jit_compiled_convolution_op, _jit_compiled_convolution_op, _jit_compiled_convolution_op, _jit_compiled_convolution_op, _jit_compiled_convolution_op while saving (showing 5 of 11). These functions will not be directly callable after loading.\n"
          ]
        },
        {
          "output_type": "stream",
          "name": "stdout",
          "text": [
            "\n",
            "Epoch 1: val_accuracy improved from -inf to 0.50957, saving model to models/lenet-01-0.624-0.510.model\n"
          ]
        },
        {
          "output_type": "stream",
          "name": "stderr",
          "text": [
            "WARNING:absl:Found untraced functions such as _jit_compiled_convolution_op, _jit_compiled_convolution_op, _jit_compiled_convolution_op, _jit_compiled_convolution_op, _jit_compiled_convolution_op while saving (showing 5 of 11). These functions will not be directly callable after loading.\n"
          ]
        },
        {
          "output_type": "stream",
          "name": "stdout",
          "text": [
            "\b\b\b\b\b\b\b\b\b\b\b\b\b\b\b\b\b\b\b\b\b\b\b\b\b\b\b\b\b\b\b\b\b\b\b\b\b\b\b\b\b\b\b\b\b\b\b\b\b\b\b\b\b\b\b\b\b\b\b\b\b\b\b\b\b\b\b\b\b\b\b\b\b\b\b\b\b\b\b\b\b\b\b\b\r513/513 [==============================] - 2002s 4s/step - loss: 0.6588 - accuracy: 0.6239 - val_loss: 1.3375 - val_accuracy: 0.5096\n"
          ]
        }
      ]
    },
    {
      "cell_type": "markdown",
      "source": [
        "# ENSEMBLE MODELS"
      ],
      "metadata": {
        "id": "hIquIkV4L1Ej"
      }
    },
    {
      "cell_type": "code",
      "source": [
        "import numpy as np\n",
        "import pandas as pd\n",
        "import tensorflow as tf\n",
        "from tensorflow import keras\n",
        "import os\n",
        "\n",
        "import matplotlib.pyplot as plt\n",
        "import matplotlib.image as img\n",
        "import seaborn as sns\n",
        "from tensorflow.keras.models import Model\n",
        "from tensorflow.keras.layers import *\n",
        "\n",
        "from sklearn.metrics import ConfusionMatrixDisplay, classification_report, confusion_matrix , precision_score, recall_score, f1_score ,  accuracy_score"
      ],
      "metadata": {
        "id": "DExcRYAcDSaM"
      },
      "execution_count": 43,
      "outputs": []
    },
    {
      "cell_type": "markdown",
      "source": [
        "Pre-processesamento dos dados\n",
        "\n",
        "Por requerimento do novo modelo, utilizerei os dados no formato pandas.Dataframe"
      ],
      "metadata": {
        "id": "5G-KG0CPNRbL"
      }
    },
    {
      "cell_type": "code",
      "source": [
        "input_path = []\n",
        "label = []\n",
        "\n",
        "for class_name in os.listdir(\"PetImages\"):\n",
        "    for path in os.listdir(\"PetImages/\"+class_name):\n",
        "        if class_name == 'Cat':\n",
        "            label.append(0)\n",
        "        else:\n",
        "            label.append(1)\n",
        "        input_path.append(os.path.join(\"PetImages\", class_name, path))\n",
        "\n",
        "df = pd.DataFrame()\n",
        "df['images'] = input_path\n",
        "df['label'] = label\n",
        "df = df.sample(frac=1).reset_index(drop=True)\n",
        "df.head()\n",
        "\n",
        "df['label'] = df['label'].astype('str')\n",
        "df.head()"
      ],
      "metadata": {
        "colab": {
          "base_uri": "https://localhost:8080/",
          "height": 206
        },
        "id": "m4f_lmDFFr9k",
        "outputId": "e408cc98-cc01-4e7e-8aea-89dd7be4782f"
      },
      "execution_count": 72,
      "outputs": [
        {
          "output_type": "execute_result",
          "data": {
            "text/plain": [
              "                    images label\n",
              "0   PetImages/Cat/6896.jpg     0\n",
              "1   PetImages/Cat/5835.jpg     0\n",
              "2  PetImages/Dog/11842.jpg     1\n",
              "3   PetImages/Dog/9522.jpg     1\n",
              "4    PetImages/Cat/677.jpg     0"
            ],
            "text/html": [
              "\n",
              "  <div id=\"df-6de7b338-7e4f-43fa-91ec-b252d24aaa7c\">\n",
              "    <div class=\"colab-df-container\">\n",
              "      <div>\n",
              "<style scoped>\n",
              "    .dataframe tbody tr th:only-of-type {\n",
              "        vertical-align: middle;\n",
              "    }\n",
              "\n",
              "    .dataframe tbody tr th {\n",
              "        vertical-align: top;\n",
              "    }\n",
              "\n",
              "    .dataframe thead th {\n",
              "        text-align: right;\n",
              "    }\n",
              "</style>\n",
              "<table border=\"1\" class=\"dataframe\">\n",
              "  <thead>\n",
              "    <tr style=\"text-align: right;\">\n",
              "      <th></th>\n",
              "      <th>images</th>\n",
              "      <th>label</th>\n",
              "    </tr>\n",
              "  </thead>\n",
              "  <tbody>\n",
              "    <tr>\n",
              "      <th>0</th>\n",
              "      <td>PetImages/Cat/6896.jpg</td>\n",
              "      <td>0</td>\n",
              "    </tr>\n",
              "    <tr>\n",
              "      <th>1</th>\n",
              "      <td>PetImages/Cat/5835.jpg</td>\n",
              "      <td>0</td>\n",
              "    </tr>\n",
              "    <tr>\n",
              "      <th>2</th>\n",
              "      <td>PetImages/Dog/11842.jpg</td>\n",
              "      <td>1</td>\n",
              "    </tr>\n",
              "    <tr>\n",
              "      <th>3</th>\n",
              "      <td>PetImages/Dog/9522.jpg</td>\n",
              "      <td>1</td>\n",
              "    </tr>\n",
              "    <tr>\n",
              "      <th>4</th>\n",
              "      <td>PetImages/Cat/677.jpg</td>\n",
              "      <td>0</td>\n",
              "    </tr>\n",
              "  </tbody>\n",
              "</table>\n",
              "</div>\n",
              "      <button class=\"colab-df-convert\" onclick=\"convertToInteractive('df-6de7b338-7e4f-43fa-91ec-b252d24aaa7c')\"\n",
              "              title=\"Convert this dataframe to an interactive table.\"\n",
              "              style=\"display:none;\">\n",
              "        \n",
              "  <svg xmlns=\"http://www.w3.org/2000/svg\" height=\"24px\"viewBox=\"0 0 24 24\"\n",
              "       width=\"24px\">\n",
              "    <path d=\"M0 0h24v24H0V0z\" fill=\"none\"/>\n",
              "    <path d=\"M18.56 5.44l.94 2.06.94-2.06 2.06-.94-2.06-.94-.94-2.06-.94 2.06-2.06.94zm-11 1L8.5 8.5l.94-2.06 2.06-.94-2.06-.94L8.5 2.5l-.94 2.06-2.06.94zm10 10l.94 2.06.94-2.06 2.06-.94-2.06-.94-.94-2.06-.94 2.06-2.06.94z\"/><path d=\"M17.41 7.96l-1.37-1.37c-.4-.4-.92-.59-1.43-.59-.52 0-1.04.2-1.43.59L10.3 9.45l-7.72 7.72c-.78.78-.78 2.05 0 2.83L4 21.41c.39.39.9.59 1.41.59.51 0 1.02-.2 1.41-.59l7.78-7.78 2.81-2.81c.8-.78.8-2.07 0-2.86zM5.41 20L4 18.59l7.72-7.72 1.47 1.35L5.41 20z\"/>\n",
              "  </svg>\n",
              "      </button>\n",
              "      \n",
              "  <style>\n",
              "    .colab-df-container {\n",
              "      display:flex;\n",
              "      flex-wrap:wrap;\n",
              "      gap: 12px;\n",
              "    }\n",
              "\n",
              "    .colab-df-convert {\n",
              "      background-color: #E8F0FE;\n",
              "      border: none;\n",
              "      border-radius: 50%;\n",
              "      cursor: pointer;\n",
              "      display: none;\n",
              "      fill: #1967D2;\n",
              "      height: 32px;\n",
              "      padding: 0 0 0 0;\n",
              "      width: 32px;\n",
              "    }\n",
              "\n",
              "    .colab-df-convert:hover {\n",
              "      background-color: #E2EBFA;\n",
              "      box-shadow: 0px 1px 2px rgba(60, 64, 67, 0.3), 0px 1px 3px 1px rgba(60, 64, 67, 0.15);\n",
              "      fill: #174EA6;\n",
              "    }\n",
              "\n",
              "    [theme=dark] .colab-df-convert {\n",
              "      background-color: #3B4455;\n",
              "      fill: #D2E3FC;\n",
              "    }\n",
              "\n",
              "    [theme=dark] .colab-df-convert:hover {\n",
              "      background-color: #434B5C;\n",
              "      box-shadow: 0px 1px 3px 1px rgba(0, 0, 0, 0.15);\n",
              "      filter: drop-shadow(0px 1px 2px rgba(0, 0, 0, 0.3));\n",
              "      fill: #FFFFFF;\n",
              "    }\n",
              "  </style>\n",
              "\n",
              "      <script>\n",
              "        const buttonEl =\n",
              "          document.querySelector('#df-6de7b338-7e4f-43fa-91ec-b252d24aaa7c button.colab-df-convert');\n",
              "        buttonEl.style.display =\n",
              "          google.colab.kernel.accessAllowed ? 'block' : 'none';\n",
              "\n",
              "        async function convertToInteractive(key) {\n",
              "          const element = document.querySelector('#df-6de7b338-7e4f-43fa-91ec-b252d24aaa7c');\n",
              "          const dataTable =\n",
              "            await google.colab.kernel.invokeFunction('convertToInteractive',\n",
              "                                                     [key], {});\n",
              "          if (!dataTable) return;\n",
              "\n",
              "          const docLinkHtml = 'Like what you see? Visit the ' +\n",
              "            '<a target=\"_blank\" href=https://colab.research.google.com/notebooks/data_table.ipynb>data table notebook</a>'\n",
              "            + ' to learn more about interactive tables.';\n",
              "          element.innerHTML = '';\n",
              "          dataTable['output_type'] = 'display_data';\n",
              "          await google.colab.output.renderOutput(dataTable, element);\n",
              "          const docLink = document.createElement('div');\n",
              "          docLink.innerHTML = docLinkHtml;\n",
              "          element.appendChild(docLink);\n",
              "        }\n",
              "      </script>\n",
              "    </div>\n",
              "  </div>\n",
              "  "
            ]
          },
          "metadata": {},
          "execution_count": 72
        }
      ]
    },
    {
      "cell_type": "code",
      "source": [
        "from sklearn.model_selection import train_test_split \n",
        "train_set, valid_set = train_test_split(df, test_size=0.15,random_state= 42)\n",
        "\n",
        "train_set.shape, valid_set.shape"
      ],
      "metadata": {
        "colab": {
          "base_uri": "https://localhost:8080/"
        },
        "id": "QPkmQQ8oCrbh",
        "outputId": "34d50dc6-ebfc-4caa-c2ba-b2621c4325e7"
      },
      "execution_count": 80,
      "outputs": [
        {
          "output_type": "execute_result",
          "data": {
            "text/plain": [
              "((19900, 2), (3512, 2))"
            ]
          },
          "metadata": {},
          "execution_count": 80
        }
      ]
    },
    {
      "cell_type": "code",
      "source": [
        "from keras.preprocessing.image import ImageDataGenerator\n",
        "train_generator = ImageDataGenerator(\n",
        "    rescale = 1./255,  # normalization of images\n",
        "    rotation_range = 40, # augmention of images to avoid overfitting\n",
        "    shear_range = 0.2,\n",
        "    zoom_range = 0.2,\n",
        "    horizontal_flip = True,\n",
        "    fill_mode = 'nearest'\n",
        ")\n",
        "\n",
        "val_generator = ImageDataGenerator(rescale = 1./255)\n",
        "\n",
        "train_iterator = train_generator.flow_from_dataframe(\n",
        "    train_set,x_col='images',\n",
        "    y_col='label',\n",
        "    target_size=(128,128),\n",
        "    batch_size=64,\n",
        "    class_mode='categorical'\n",
        ")\n",
        "\n",
        "val_iterator = val_generator.flow_from_dataframe(\n",
        "    valid_set,x_col='images',\n",
        "    y_col='label',\n",
        "    target_size=(128,128),\n",
        "    batch_size=64,\n",
        "    class_mode='categorical'\n",
        ")"
      ],
      "metadata": {
        "colab": {
          "base_uri": "https://localhost:8080/"
        },
        "id": "Sq308Wg7C4b0",
        "outputId": "60c11188-6376-4292-ffb0-5f96e89623fa"
      },
      "execution_count": 101,
      "outputs": [
        {
          "output_type": "stream",
          "name": "stdout",
          "text": [
            "Found 19898 validated image filenames belonging to 2 classes.\n",
            "Found 3512 validated image filenames belonging to 2 classes.\n"
          ]
        },
        {
          "output_type": "stream",
          "name": "stderr",
          "text": [
            "/usr/local/lib/python3.8/dist-packages/keras/preprocessing/image.py:1137: UserWarning: Found 2 invalid image filename(s) in x_col=\"images\". These filename(s) will be ignored.\n",
            "  warnings.warn(\n"
          ]
        }
      ]
    },
    {
      "cell_type": "markdown",
      "source": [
        "Nova arquitetura"
      ],
      "metadata": {
        "id": "FycBtoY5NuXh"
      }
    },
    {
      "cell_type": "code",
      "source": [
        "def create_model(IMG_SIZE = 128 , n = 2 ,show = True ):\n",
        "    \n",
        "    IMG_SHAPE = (IMG_SIZE, IMG_SIZE, 3) \n",
        "    i = Input(shape= IMG_SHAPE)\n",
        "    x = Conv2D(32, (3, 3), activation='relu', padding='same')(i)\n",
        "    x = BatchNormalization()(x)\n",
        "    x = Conv2D(32, (3, 3), activation='relu', padding='same')(x)\n",
        "    x = BatchNormalization()(x)\n",
        "    x = MaxPooling2D((2, 2))(x)\n",
        "\n",
        "    x = Conv2D(64, (3, 3), activation='relu', padding='same')(x)\n",
        "    x = BatchNormalization()(x)\n",
        "    x = Conv2D(64, (3, 3), activation='relu', padding='same')(x)\n",
        "    x = BatchNormalization()(x)\n",
        "    x = MaxPooling2D((2, 2))(x)\n",
        "    \n",
        "\n",
        "\n",
        "    x = Flatten()(x)\n",
        "    x = Dropout(0.2)(x)\n",
        "\n",
        "    # Hidden layer\n",
        "    x = Dense(512, activation='relu')(x)\n",
        "    x = Dropout(0.2)(x)\n",
        "    x = BatchNormalization()(x)\n",
        "    x = Dense(512, activation='relu')(x)\n",
        "    x = Dropout(0.2)(x)\n",
        "    x = BatchNormalization()(x)\n",
        "    x = Dense(512, activation='relu')(x)\n",
        "    x = Dropout(0.2)(x)\n",
        "    x = BatchNormalization()(x)\n",
        "\n",
        "    # last hidden layer i.e.. output layer\n",
        "    x = Dense(n, activation='sigmoid')(x)\n",
        "\n",
        "    model = Model(i, x)\n",
        "\n",
        "    # model description\n",
        "\n",
        "    if(show):\n",
        "\n",
        "        print(model.summary())\n",
        "    \n",
        "    return model"
      ],
      "metadata": {
        "id": "3DudQPn5DF0V"
      },
      "execution_count": 82,
      "outputs": []
    },
    {
      "cell_type": "code",
      "source": [
        "losses = {\"Cross_entropy\" : tf.keras.losses.BinaryCrossentropy(),\n",
        "          \"Huber\" : tf.keras.losses.Huber()}"
      ],
      "metadata": {
        "id": "aR_CCNWcDWU8"
      },
      "execution_count": 88,
      "outputs": []
    },
    {
      "cell_type": "code",
      "source": [
        "m1 = create_model()\n",
        "\n",
        "m1.compile(loss= losses[\"Cross_entropy\"], \n",
        "                optimizer= tf.keras.optimizers.Adam(learning_rate=0.0001, beta_1=0.9, beta_2=0.999),\n",
        "                metrics=['accuracy'])\n",
        "\n",
        "\n",
        "h1 = m1.fit(train_iterator,\n",
        "                    epochs=1,\n",
        "                    validation_data=val_iterator,\n",
        "                    steps_per_epoch = 300 )   \n",
        "                  "
      ],
      "metadata": {
        "colab": {
          "base_uri": "https://localhost:8080/"
        },
        "id": "rWdOMNgDDikj",
        "outputId": "2a8c6773-cd01-4cef-927f-830fd6d11532"
      },
      "execution_count": 92,
      "outputs": [
        {
          "output_type": "stream",
          "name": "stdout",
          "text": [
            "Model: \"model_9\"\n",
            "_________________________________________________________________\n",
            " Layer (type)                Output Shape              Param #   \n",
            "=================================================================\n",
            " input_10 (InputLayer)       [(None, 128, 128, 3)]     0         \n",
            "                                                                 \n",
            " conv2d_36 (Conv2D)          (None, 128, 128, 32)      896       \n",
            "                                                                 \n",
            " batch_normalization_63 (Bat  (None, 128, 128, 32)     128       \n",
            " chNormalization)                                                \n",
            "                                                                 \n",
            " conv2d_37 (Conv2D)          (None, 128, 128, 32)      9248      \n",
            "                                                                 \n",
            " batch_normalization_64 (Bat  (None, 128, 128, 32)     128       \n",
            " chNormalization)                                                \n",
            "                                                                 \n",
            " max_pooling2d_18 (MaxPoolin  (None, 64, 64, 32)       0         \n",
            " g2D)                                                            \n",
            "                                                                 \n",
            " conv2d_38 (Conv2D)          (None, 64, 64, 64)        18496     \n",
            "                                                                 \n",
            " batch_normalization_65 (Bat  (None, 64, 64, 64)       256       \n",
            " chNormalization)                                                \n",
            "                                                                 \n",
            " conv2d_39 (Conv2D)          (None, 64, 64, 64)        36928     \n",
            "                                                                 \n",
            " batch_normalization_66 (Bat  (None, 64, 64, 64)       256       \n",
            " chNormalization)                                                \n",
            "                                                                 \n",
            " max_pooling2d_19 (MaxPoolin  (None, 32, 32, 64)       0         \n",
            " g2D)                                                            \n",
            "                                                                 \n",
            " flatten_10 (Flatten)        (None, 65536)             0         \n",
            "                                                                 \n",
            " dropout_37 (Dropout)        (None, 65536)             0         \n",
            "                                                                 \n",
            " dense_37 (Dense)            (None, 512)               33554944  \n",
            "                                                                 \n",
            " dropout_38 (Dropout)        (None, 512)               0         \n",
            "                                                                 \n",
            " batch_normalization_67 (Bat  (None, 512)              2048      \n",
            " chNormalization)                                                \n",
            "                                                                 \n",
            " dense_38 (Dense)            (None, 512)               262656    \n",
            "                                                                 \n",
            " dropout_39 (Dropout)        (None, 512)               0         \n",
            "                                                                 \n",
            " batch_normalization_68 (Bat  (None, 512)              2048      \n",
            " chNormalization)                                                \n",
            "                                                                 \n",
            " dense_39 (Dense)            (None, 512)               262656    \n",
            "                                                                 \n",
            " dropout_40 (Dropout)        (None, 512)               0         \n",
            "                                                                 \n",
            " batch_normalization_69 (Bat  (None, 512)              2048      \n",
            " chNormalization)                                                \n",
            "                                                                 \n",
            " dense_40 (Dense)            (None, 2)                 1026      \n",
            "                                                                 \n",
            "=================================================================\n",
            "Total params: 34,153,762\n",
            "Trainable params: 34,150,306\n",
            "Non-trainable params: 3,456\n",
            "_________________________________________________________________\n",
            "None\n",
            "300/300 [==============================] - 919s 3s/step - loss: 0.7152 - accuracy: 0.6358 - val_loss: 1.0234 - val_accuracy: 0.5060\n"
          ]
        }
      ]
    },
    {
      "cell_type": "code",
      "source": [
        "m2 = create_model()\n",
        "    \n",
        "m2.compile(loss= losses[\"Huber\"], \n",
        "                optimizer= tf.keras.optimizers.Adam(learning_rate=0.0001, beta_1=0.9, beta_2=0.999),\n",
        "                metrics=['accuracy'])\n",
        "h2 = m2.fit(train_iterator,\n",
        "                      epochs= 1,\n",
        "                      validation_data=val_iterator,                    \n",
        "                      steps_per_epoch = 300 \n",
        "                      )  "
      ],
      "metadata": {
        "colab": {
          "base_uri": "https://localhost:8080/"
        },
        "id": "Uj0-og8HP_S4",
        "outputId": "fe322993-fbf7-4fa0-acdf-bb74ffa252d4"
      },
      "execution_count": 106,
      "outputs": [
        {
          "output_type": "stream",
          "name": "stdout",
          "text": [
            "Model: \"model_12\"\n",
            "_________________________________________________________________\n",
            " Layer (type)                Output Shape              Param #   \n",
            "=================================================================\n",
            " input_13 (InputLayer)       [(None, 128, 128, 3)]     0         \n",
            "                                                                 \n",
            " conv2d_48 (Conv2D)          (None, 128, 128, 32)      896       \n",
            "                                                                 \n",
            " batch_normalization_84 (Bat  (None, 128, 128, 32)     128       \n",
            " chNormalization)                                                \n",
            "                                                                 \n",
            " conv2d_49 (Conv2D)          (None, 128, 128, 32)      9248      \n",
            "                                                                 \n",
            " batch_normalization_85 (Bat  (None, 128, 128, 32)     128       \n",
            " chNormalization)                                                \n",
            "                                                                 \n",
            " max_pooling2d_24 (MaxPoolin  (None, 64, 64, 32)       0         \n",
            " g2D)                                                            \n",
            "                                                                 \n",
            " conv2d_50 (Conv2D)          (None, 64, 64, 64)        18496     \n",
            "                                                                 \n",
            " batch_normalization_86 (Bat  (None, 64, 64, 64)       256       \n",
            " chNormalization)                                                \n",
            "                                                                 \n",
            " conv2d_51 (Conv2D)          (None, 64, 64, 64)        36928     \n",
            "                                                                 \n",
            " batch_normalization_87 (Bat  (None, 64, 64, 64)       256       \n",
            " chNormalization)                                                \n",
            "                                                                 \n",
            " max_pooling2d_25 (MaxPoolin  (None, 32, 32, 64)       0         \n",
            " g2D)                                                            \n",
            "                                                                 \n",
            " flatten_13 (Flatten)        (None, 65536)             0         \n",
            "                                                                 \n",
            " dropout_49 (Dropout)        (None, 65536)             0         \n",
            "                                                                 \n",
            " dense_49 (Dense)            (None, 512)               33554944  \n",
            "                                                                 \n",
            " dropout_50 (Dropout)        (None, 512)               0         \n",
            "                                                                 \n",
            " batch_normalization_88 (Bat  (None, 512)              2048      \n",
            " chNormalization)                                                \n",
            "                                                                 \n",
            " dense_50 (Dense)            (None, 512)               262656    \n",
            "                                                                 \n",
            " dropout_51 (Dropout)        (None, 512)               0         \n",
            "                                                                 \n",
            " batch_normalization_89 (Bat  (None, 512)              2048      \n",
            " chNormalization)                                                \n",
            "                                                                 \n",
            " dense_51 (Dense)            (None, 512)               262656    \n",
            "                                                                 \n",
            " dropout_52 (Dropout)        (None, 512)               0         \n",
            "                                                                 \n",
            " batch_normalization_90 (Bat  (None, 512)              2048      \n",
            " chNormalization)                                                \n",
            "                                                                 \n",
            " dense_52 (Dense)            (None, 2)                 1026      \n",
            "                                                                 \n",
            "=================================================================\n",
            "Total params: 34,153,762\n",
            "Trainable params: 34,150,306\n",
            "Non-trainable params: 3,456\n",
            "_________________________________________________________________\n",
            "None\n",
            "300/300 [==============================] - 1576s 5s/step - loss: 0.1228 - accuracy: 0.6602 - val_loss: 0.2488 - val_accuracy: 0.4986\n"
          ]
        }
      ]
    },
    {
      "cell_type": "markdown",
      "source": [
        "## AVALIACAO DOS MODELOS POR LOSS FUNCTION"
      ],
      "metadata": {
        "id": "yfQKPdzAN9Xp"
      }
    },
    {
      "cell_type": "code",
      "source": [
        "X_test, y_test = next(val_iterator)\n",
        "labels = []\n",
        "\n",
        "for val in y_test:\n",
        "    \n",
        "    labels.append(np.argmax(val))\n",
        "\n",
        "labels = np.array(labels)\n",
        "def evaluate(preds1,y_val, n = 2 ):\n",
        "    \n",
        "    y_preds = []\n",
        "    for pred in preds1 : \n",
        "      y_preds.append(np.argmax(pred))\n",
        "    \n",
        "    \n",
        "    \n",
        "    acc = accuracy_score(y_val,y_preds)\n",
        "    pre = sum(precision_score(y_val,y_preds , average= None ))/n\n",
        "    recall = sum(recall_score(y_val,y_preds , average= None ))/n\n",
        "    F1 = sum(f1_score(y_val,y_preds , average= None))/n\n",
        "    \n",
        "    \n",
        "    \n",
        "    print('Accuracy Score: ',acc)\n",
        "    print('Precision Score : ',pre)\n",
        "    print('Recall Score : ', recall)\n",
        "    print('F1 Score(Class wise): ',F1)\n",
        "    print('Conf Matrix Score(Class wise):\\n ',confusion_matrix(y_val,y_preds ))\n",
        "    \n",
        "    \n",
        "    res = { \"acc\" : acc , \n",
        "            \"pre\" : pre , \n",
        "            \"recall\" : recall , \n",
        "            \"F1\" : F1\n",
        "    }\n",
        "    \n",
        "    return res"
      ],
      "metadata": {
        "id": "VrxL4HYNOHSV"
      },
      "execution_count": 98,
      "outputs": []
    },
    {
      "cell_type": "code",
      "source": [
        "def plot(r):\n",
        "\n",
        "    plt.figure(figsize=(12, 16))\n",
        "\n",
        "    plt.subplot(4, 2, 1)\n",
        "    plt.plot(r.history['loss'], label='Loss')\n",
        "    plt.plot(r.history['val_loss'], label='val_Loss')\n",
        "    plt.title('Loss Function Evolution')\n",
        "    plt.legend()\n",
        "\n",
        "    plt.subplot(4, 2, 2)\n",
        "    plt.plot(r.history['accuracy'], label='accuracy')\n",
        "    plt.plot(r.history['val_accuracy'], label='val_accuracy')\n",
        "    plt.title('Accuracy Function Evolution')\n",
        "    plt.legend()"
      ],
      "metadata": {
        "id": "aDCmGJCQOO0U"
      },
      "execution_count": 94,
      "outputs": []
    },
    {
      "cell_type": "code",
      "source": [
        "res1 = evaluate(m1.predict(X_test),labels)"
      ],
      "metadata": {
        "colab": {
          "base_uri": "https://localhost:8080/"
        },
        "id": "tW0UgGhXO8P1",
        "outputId": "dab0bf60-b415-4e99-96cf-7bd4054fea60"
      },
      "execution_count": 102,
      "outputs": [
        {
          "output_type": "stream",
          "name": "stdout",
          "text": [
            "1/1 [==============================] - 1s 545ms/step\n",
            "Accuracy Score:  0.53125\n",
            "Precision Score :  0.265625\n",
            "Recall Score :  0.5\n",
            "F1 Score(Class wise):  0.3469387755102041\n",
            "Conf Matrix Score(Class wise):\n",
            "  [[17  0]\n",
            " [15  0]]\n"
          ]
        },
        {
          "output_type": "stream",
          "name": "stderr",
          "text": [
            "/usr/local/lib/python3.8/dist-packages/sklearn/metrics/_classification.py:1318: UndefinedMetricWarning: Precision is ill-defined and being set to 0.0 in labels with no predicted samples. Use `zero_division` parameter to control this behavior.\n",
            "  _warn_prf(average, modifier, msg_start, len(result))\n"
          ]
        }
      ]
    },
    {
      "cell_type": "code",
      "source": [
        "res2 = evaluate(m2.predict(X_test),labels)"
      ],
      "metadata": {
        "colab": {
          "base_uri": "https://localhost:8080/"
        },
        "id": "qmR2b7h1P7ON",
        "outputId": "8a3a4971-84cf-40e9-ae65-89d071a389dd"
      },
      "execution_count": 107,
      "outputs": [
        {
          "output_type": "stream",
          "name": "stdout",
          "text": [
            "1/1 [==============================] - 1s 1s/step\n",
            "Accuracy Score:  0.53125\n",
            "Precision Score :  0.265625\n",
            "Recall Score :  0.5\n",
            "F1 Score(Class wise):  0.3469387755102041\n",
            "Conf Matrix Score(Class wise):\n",
            "  [[17  0]\n",
            " [15  0]]\n"
          ]
        },
        {
          "output_type": "stream",
          "name": "stderr",
          "text": [
            "/usr/local/lib/python3.8/dist-packages/sklearn/metrics/_classification.py:1318: UndefinedMetricWarning: Precision is ill-defined and being set to 0.0 in labels with no predicted samples. Use `zero_division` parameter to control this behavior.\n",
            "  _warn_prf(average, modifier, msg_start, len(result))\n"
          ]
        }
      ]
    },
    {
      "cell_type": "markdown",
      "source": [
        "Ensemble method"
      ],
      "metadata": {
        "id": "UUCfSSIWZKzd"
      }
    },
    {
      "cell_type": "code",
      "source": [
        "def ensemble(p1,p2):\n",
        "    \n",
        "    m,n = p1.shape\n",
        "    \n",
        "    \n",
        "    z1 = np.zeros((m,n))\n",
        "    \n",
        "    z2 = np.zeros((m,n))\n",
        "    \n",
        "    z3 = np.zeros((m,n))\n",
        "    \n",
        "    z4 = np.zeros((m,n))\n",
        "    \n",
        "    z5 = np.zeros((m,n))\n",
        "    \n",
        "    \n",
        "    \n",
        "    \n",
        "    for i in range(0,m):\n",
        "        \n",
        "        for j in range(0,n):\n",
        "            \n",
        "            z1[i][j] = p1[i][j] + p2[i][j]\n",
        "            \n",
        "            z2[i][j] = 2.1*p1[i][j] + 2.3*p2[i][j] \n",
        "            \n",
        "            z3[i][j] = 2.7*p1[i][j] + 2.1*p2[i][j]\n",
        "            \n",
        "            z4[i][j] = max(p1[i][j] , p2[i][j])\n",
        "            \n",
        "            z5[i][j] = p1[i][j] * p2[i][j]\n",
        "    \n",
        "    \n",
        "    return z1,z2,z3,z4,z5"
      ],
      "metadata": {
        "id": "Ekf7ah6tYC8O"
      },
      "execution_count": 111,
      "outputs": []
    },
    {
      "cell_type": "code",
      "source": [
        "p1 = m1.predict(X_test)\n",
        "p2 = m2.predict(X_test)\n",
        "\n",
        "z1,z2,z3,z4,z5 = ensemble(p1,p2)"
      ],
      "metadata": {
        "colab": {
          "base_uri": "https://localhost:8080/"
        },
        "id": "baYtq7DvYoQR",
        "outputId": "c1c0083b-da5f-4dc7-8e7b-2396e9fab694"
      },
      "execution_count": 112,
      "outputs": [
        {
          "output_type": "stream",
          "name": "stdout",
          "text": [
            "1/1 [==============================] - 1s 1s/step\n",
            "1/1 [==============================] - 1s 878ms/step\n"
          ]
        }
      ]
    },
    {
      "cell_type": "code",
      "source": [
        "en1 = evaluate(z1,labels)\n",
        "en2 = evaluate(z2,labels)\n",
        "en3 = evaluate(z3,labels)\n",
        "en4 = evaluate(z4,labels)\n",
        "en5 = evaluate(z5,labels)"
      ],
      "metadata": {
        "colab": {
          "base_uri": "https://localhost:8080/"
        },
        "id": "ajoJDfcPY37J",
        "outputId": "004604b1-f005-45f6-de7a-7a04d1307c89"
      },
      "execution_count": 116,
      "outputs": [
        {
          "output_type": "stream",
          "name": "stdout",
          "text": [
            "Accuracy Score:  0.53125\n",
            "Precision Score :  0.265625\n",
            "Recall Score :  0.5\n",
            "F1 Score(Class wise):  0.3469387755102041\n",
            "Conf Matrix Score(Class wise):\n",
            "  [[17  0]\n",
            " [15  0]]\n",
            "Accuracy Score:  0.53125\n",
            "Precision Score :  0.265625\n",
            "Recall Score :  0.5\n",
            "F1 Score(Class wise):  0.3469387755102041\n",
            "Conf Matrix Score(Class wise):\n",
            "  [[17  0]\n",
            " [15  0]]\n",
            "Accuracy Score:  0.53125\n",
            "Precision Score :  0.265625\n",
            "Recall Score :  0.5\n",
            "F1 Score(Class wise):  0.3469387755102041\n",
            "Conf Matrix Score(Class wise):\n",
            "  [[17  0]\n",
            " [15  0]]\n",
            "Accuracy Score:  0.53125\n",
            "Precision Score :  0.265625\n",
            "Recall Score :  0.5\n",
            "F1 Score(Class wise):  0.3469387755102041\n",
            "Conf Matrix Score(Class wise):\n",
            "  [[17  0]\n",
            " [15  0]]\n",
            "Accuracy Score:  0.53125\n",
            "Precision Score :  0.265625\n",
            "Recall Score :  0.5\n",
            "F1 Score(Class wise):  0.3469387755102041\n",
            "Conf Matrix Score(Class wise):\n",
            "  [[17  0]\n",
            " [15  0]]\n"
          ]
        },
        {
          "output_type": "stream",
          "name": "stderr",
          "text": [
            "/usr/local/lib/python3.8/dist-packages/sklearn/metrics/_classification.py:1318: UndefinedMetricWarning: Precision is ill-defined and being set to 0.0 in labels with no predicted samples. Use `zero_division` parameter to control this behavior.\n",
            "  _warn_prf(average, modifier, msg_start, len(result))\n",
            "/usr/local/lib/python3.8/dist-packages/sklearn/metrics/_classification.py:1318: UndefinedMetricWarning: Precision is ill-defined and being set to 0.0 in labels with no predicted samples. Use `zero_division` parameter to control this behavior.\n",
            "  _warn_prf(average, modifier, msg_start, len(result))\n",
            "/usr/local/lib/python3.8/dist-packages/sklearn/metrics/_classification.py:1318: UndefinedMetricWarning: Precision is ill-defined and being set to 0.0 in labels with no predicted samples. Use `zero_division` parameter to control this behavior.\n",
            "  _warn_prf(average, modifier, msg_start, len(result))\n",
            "/usr/local/lib/python3.8/dist-packages/sklearn/metrics/_classification.py:1318: UndefinedMetricWarning: Precision is ill-defined and being set to 0.0 in labels with no predicted samples. Use `zero_division` parameter to control this behavior.\n",
            "  _warn_prf(average, modifier, msg_start, len(result))\n",
            "/usr/local/lib/python3.8/dist-packages/sklearn/metrics/_classification.py:1318: UndefinedMetricWarning: Precision is ill-defined and being set to 0.0 in labels with no predicted samples. Use `zero_division` parameter to control this behavior.\n",
            "  _warn_prf(average, modifier, msg_start, len(result))\n"
          ]
        }
      ]
    }
  ]
}